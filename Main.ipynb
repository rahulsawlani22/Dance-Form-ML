{
 "cells": [
  {
   "cell_type": "code",
   "execution_count": 1,
   "metadata": {},
   "outputs": [
    {
     "name": "stdout",
     "output_type": "stream",
     "text": [
      "2.2.0\n"
     ]
    }
   ],
   "source": [
    "import tensorflow as tf\n",
    "print(tf.__version__)"
   ]
  },
  {
   "cell_type": "code",
   "execution_count": 13,
   "metadata": {},
   "outputs": [],
   "source": [
    "import pandas as pd\n",
    "import os\n",
    "import numpy as np\n",
    "import random\n",
    "from keras.preprocessing.image import ImageDataGenerator, array_to_img, img_to_array, load_img"
   ]
  },
  {
   "cell_type": "code",
   "execution_count": 59,
   "metadata": {},
   "outputs": [],
   "source": [
    "datadir=\"D:/learn/ML/Dancing ML/DanceDataset/train\"\n",
    "categories=[\"manipuri\",\"bharatanatyam\",\"odissi\",\"kathakali\",\"kathak\",\"sattriya\",\"kuchipudi\",\"mohiniyattam\"]\n",
    "data=pd.read_csv(\"train.csv\")\n",
    "x=data[\"Image\"]\n",
    "y=data[\"target\"]\n",
    "path=os.path.join(datadir)\n",
    "train_data=[]\n",
    "for img,label in zip(x,y):\n",
    "    img=load_img(os.path.join(path,img),target_size=(128,128))\n",
    "    img_arr=np.array(img)\n",
    "    train_data.append([img_arr,categories.index(label)])\n",
    "    \n",
    "random.shuffle(train_data)"
   ]
  },
  {
   "cell_type": "code",
   "execution_count": 74,
   "metadata": {},
   "outputs": [
    {
     "data": {
      "text/plain": [
       "(364, 1)"
      ]
     },
     "execution_count": 74,
     "metadata": {},
     "output_type": "execute_result"
    }
   ],
   "source": [
    "X=[]\n",
    "Y=[]\n",
    "for features,labels in train_data:\n",
    "    X.append(features)\n",
    "    Y.append(labels)\n",
    "\n",
    "X=np.array(X)\n",
    "Y=np.array(Y)\n",
    "X.shape\n",
    "X=X/255.\n",
    "Y = Y.reshape((len(Y), 1))\n",
    "Y.shape\n"
   ]
  },
  {
   "cell_type": "code",
   "execution_count": 61,
   "metadata": {},
   "outputs": [],
   "source": [
    "from sklearn.preprocessing import OneHotEncoder"
   ]
  },
  {
   "cell_type": "code",
   "execution_count": 78,
   "metadata": {},
   "outputs": [
    {
     "name": "stdout",
     "output_type": "stream",
     "text": [
      "[[0. 1. 0. ... 0. 0. 0.]\n",
      " [0. 0. 0. ... 0. 0. 0.]\n",
      " [0. 0. 0. ... 0. 1. 0.]\n",
      " ...\n",
      " [0. 0. 0. ... 0. 1. 0.]\n",
      " [0. 0. 1. ... 0. 0. 0.]\n",
      " [0. 0. 0. ... 1. 0. 0.]]\n"
     ]
    },
    {
     "name": "stderr",
     "output_type": "stream",
     "text": [
      "D:\\apps\\Anaconda\\lib\\site-packages\\sklearn\\preprocessing\\_encoders.py:415: FutureWarning: The handling of integer data will change in version 0.22. Currently, the categories are determined based on the range [0, max(values)], while in the future they will be determined based on the unique values.\n",
      "If you want the future behaviour and silence this warning, you can specify \"categories='auto'\".\n",
      "In case you used a LabelEncoder before this OneHotEncoder to convert the categories to integers, then you can now use the OneHotEncoder directly.\n",
      "  warnings.warn(msg, FutureWarning)\n"
     ]
    }
   ],
   "source": [
    "oh=OneHotEncoder(sparse=False)\n",
    "Y_enc=oh.fit_transform(Y)\n",
    "print(Y_enc)"
   ]
  },
  {
   "cell_type": "code",
   "execution_count": 63,
   "metadata": {},
   "outputs": [],
   "source": [
    "from keras.models import Sequential,Model\n",
    "from keras.layers import Conv2D, MaxPooling2D\n",
    "from keras.layers import Activation, Dropout, Flatten, Dense,GlobalAveragePooling2D\n",
    "from keras import applications"
   ]
  },
  {
   "cell_type": "code",
   "execution_count": 121,
   "metadata": {},
   "outputs": [],
   "source": [
    "model=Sequential()\n",
    "model.add(Conv2D(32,(3,3),input_shape=(128,128,3)))\n",
    "model.add(Activation('relu'))\n",
    "model.add(MaxPooling2D(pool_size=(2, 2)))\n",
    "\n",
    "model.add(Conv2D(32, (3, 3)))\n",
    "model.add(Activation('relu'))\n",
    "model.add(MaxPooling2D(pool_size=(2, 2)))\n",
    "\n",
    "model.add(Conv2D(64, (3, 3)))\n",
    "model.add(Activation('relu'))\n",
    "model.add(MaxPooling2D(pool_size=(2, 2)))\n",
    "\n",
    "model.add(Flatten()) \n",
    "model.add(Dense(64))\n",
    "model.add(Activation('relu'))\n",
    "model.add(Dropout(0.5))\n",
    "model.add(Dense(8))\n",
    "model.add(Activation('softmax'))\n",
    "\n",
    "model.compile(loss='categorical_crossentropy',optimizer='adam',metrics=['accuracy'])"
   ]
  },
  {
   "cell_type": "code",
   "execution_count": 122,
   "metadata": {},
   "outputs": [
    {
     "name": "stdout",
     "output_type": "stream",
     "text": [
      "Epoch 1/100\n",
      "12/12 [==============================] - 3s 225ms/step - loss: 2.1121 - accuracy: 0.1099\n",
      "Epoch 2/100\n",
      "12/12 [==============================] - 3s 223ms/step - loss: 2.0379 - accuracy: 0.1593\n",
      "Epoch 3/100\n",
      "12/12 [==============================] - 3s 238ms/step - loss: 1.9387 - accuracy: 0.2582\n",
      "Epoch 4/100\n",
      "12/12 [==============================] - 3s 290ms/step - loss: 1.7693 - accuracy: 0.3187\n",
      "Epoch 5/100\n",
      "12/12 [==============================] - 5s 416ms/step - loss: 1.5915 - accuracy: 0.4451\n",
      "Epoch 6/100\n",
      "12/12 [==============================] - 5s 407ms/step - loss: 1.3613 - accuracy: 0.5220\n",
      "Epoch 7/100\n",
      "12/12 [==============================] - 5s 415ms/step - loss: 1.1390 - accuracy: 0.5687\n",
      "Epoch 8/100\n",
      "12/12 [==============================] - 5s 403ms/step - loss: 1.0188 - accuracy: 0.6456\n",
      "Epoch 9/100\n",
      "12/12 [==============================] - 5s 416ms/step - loss: 0.8581 - accuracy: 0.7115\n",
      "Epoch 10/100\n",
      "12/12 [==============================] - 5s 431ms/step - loss: 0.7259 - accuracy: 0.7390\n",
      "Epoch 11/100\n",
      "12/12 [==============================] - 5s 428ms/step - loss: 0.6307 - accuracy: 0.7857\n",
      "Epoch 12/100\n",
      "12/12 [==============================] - 5s 421ms/step - loss: 0.5940 - accuracy: 0.7995\n",
      "Epoch 13/100\n",
      "12/12 [==============================] - 5s 418ms/step - loss: 0.4631 - accuracy: 0.8407\n",
      "Epoch 14/100\n",
      "12/12 [==============================] - 5s 433ms/step - loss: 0.3952 - accuracy: 0.8516\n",
      "Epoch 15/100\n",
      "12/12 [==============================] - 5s 411ms/step - loss: 0.3772 - accuracy: 0.8709\n",
      "Epoch 16/100\n",
      "12/12 [==============================] - 5s 430ms/step - loss: 0.3811 - accuracy: 0.8681\n",
      "Epoch 17/100\n",
      "12/12 [==============================] - 5s 412ms/step - loss: 0.2712 - accuracy: 0.9231\n",
      "Epoch 18/100\n",
      "12/12 [==============================] - 5s 409ms/step - loss: 0.3299 - accuracy: 0.8819\n",
      "Epoch 19/100\n",
      "12/12 [==============================] - 5s 410ms/step - loss: 0.2714 - accuracy: 0.8984\n",
      "Epoch 20/100\n",
      "12/12 [==============================] - 5s 412ms/step - loss: 0.2117 - accuracy: 0.9231\n",
      "Epoch 21/100\n",
      "12/12 [==============================] - 5s 408ms/step - loss: 0.2588 - accuracy: 0.9038\n",
      "Epoch 22/100\n",
      "12/12 [==============================] - 5s 426ms/step - loss: 0.2624 - accuracy: 0.9093\n",
      "Epoch 23/100\n",
      "12/12 [==============================] - 5s 424ms/step - loss: 0.2257 - accuracy: 0.9011\n",
      "Epoch 24/100\n",
      "12/12 [==============================] - 5s 392ms/step - loss: 0.1995 - accuracy: 0.9341\n",
      "Epoch 25/100\n",
      "12/12 [==============================] - 5s 382ms/step - loss: 0.2151 - accuracy: 0.9258\n",
      "Epoch 26/100\n",
      "12/12 [==============================] - 5s 410ms/step - loss: 0.2084 - accuracy: 0.9341\n",
      "Epoch 27/100\n",
      "12/12 [==============================] - 5s 411ms/step - loss: 0.1386 - accuracy: 0.9533\n",
      "Epoch 28/100\n",
      "12/12 [==============================] - 5s 407ms/step - loss: 0.1540 - accuracy: 0.9396\n",
      "Epoch 29/100\n",
      "12/12 [==============================] - 5s 408ms/step - loss: 0.1299 - accuracy: 0.9560\n",
      "Epoch 30/100\n",
      "12/12 [==============================] - 5s 409ms/step - loss: 0.1698 - accuracy: 0.9313\n",
      "Epoch 31/100\n",
      "12/12 [==============================] - 5s 408ms/step - loss: 0.1187 - accuracy: 0.9560\n",
      "Epoch 32/100\n",
      "12/12 [==============================] - 5s 424ms/step - loss: 0.1024 - accuracy: 0.9643\n",
      "Epoch 33/100\n",
      "12/12 [==============================] - 5s 419ms/step - loss: 0.1333 - accuracy: 0.9505\n",
      "Epoch 34/100\n",
      "12/12 [==============================] - 5s 406ms/step - loss: 0.1528 - accuracy: 0.9368\n",
      "Epoch 35/100\n",
      "12/12 [==============================] - 5s 409ms/step - loss: 0.1566 - accuracy: 0.9423\n",
      "Epoch 36/100\n",
      "12/12 [==============================] - 5s 408ms/step - loss: 0.0863 - accuracy: 0.9780\n",
      "Epoch 37/100\n",
      "12/12 [==============================] - 5s 407ms/step - loss: 0.1311 - accuracy: 0.9423\n",
      "Epoch 38/100\n",
      "12/12 [==============================] - 5s 422ms/step - loss: 0.0921 - accuracy: 0.9643\n",
      "Epoch 39/100\n",
      "12/12 [==============================] - 5s 381ms/step - loss: 0.1117 - accuracy: 0.9478\n",
      "Epoch 40/100\n",
      "12/12 [==============================] - 5s 388ms/step - loss: 0.0974 - accuracy: 0.9643\n",
      "Epoch 41/100\n",
      "12/12 [==============================] - 5s 408ms/step - loss: 0.1255 - accuracy: 0.9533\n",
      "Epoch 42/100\n",
      "12/12 [==============================] - 5s 415ms/step - loss: 0.1203 - accuracy: 0.9670\n",
      "Epoch 43/100\n",
      "12/12 [==============================] - 5s 416ms/step - loss: 0.1347 - accuracy: 0.9533\n",
      "Epoch 44/100\n",
      "12/12 [==============================] - 5s 416ms/step - loss: 0.1149 - accuracy: 0.9478\n",
      "Epoch 45/100\n",
      "12/12 [==============================] - 5s 421ms/step - loss: 0.1464 - accuracy: 0.9478\n",
      "Epoch 46/100\n",
      "12/12 [==============================] - 5s 399ms/step - loss: 0.1632 - accuracy: 0.9396\n",
      "Epoch 47/100\n",
      "12/12 [==============================] - 5s 401ms/step - loss: 0.1607 - accuracy: 0.9396\n",
      "Epoch 48/100\n",
      "12/12 [==============================] - 5s 397ms/step - loss: 0.1348 - accuracy: 0.9533\n",
      "Epoch 49/100\n",
      "12/12 [==============================] - 5s 422ms/step - loss: 0.1585 - accuracy: 0.9341\n",
      "Epoch 50/100\n",
      "12/12 [==============================] - 5s 410ms/step - loss: 0.1016 - accuracy: 0.9643\n",
      "Epoch 51/100\n",
      "12/12 [==============================] - 5s 432ms/step - loss: 0.1033 - accuracy: 0.9643\n",
      "Epoch 52/100\n",
      "12/12 [==============================] - 5s 408ms/step - loss: 0.1035 - accuracy: 0.9588\n",
      "Epoch 53/100\n",
      "12/12 [==============================] - 5s 376ms/step - loss: 0.0815 - accuracy: 0.9725\n",
      "Epoch 54/100\n",
      "12/12 [==============================] - 4s 372ms/step - loss: 0.1193 - accuracy: 0.9560\n",
      "Epoch 55/100\n",
      "12/12 [==============================] - 5s 408ms/step - loss: 0.0620 - accuracy: 0.9698\n",
      "Epoch 56/100\n",
      "12/12 [==============================] - 5s 456ms/step - loss: 0.0810 - accuracy: 0.9698\n",
      "Epoch 57/100\n",
      "12/12 [==============================] - 6s 492ms/step - loss: 0.0910 - accuracy: 0.9588\n",
      "Epoch 58/100\n",
      "12/12 [==============================] - 5s 451ms/step - loss: 0.1036 - accuracy: 0.9505\n",
      "Epoch 59/100\n",
      "12/12 [==============================] - 6s 523ms/step - loss: 0.0900 - accuracy: 0.9643\n",
      "Epoch 60/100\n",
      "12/12 [==============================] - 5s 430ms/step - loss: 0.0778 - accuracy: 0.9698\n",
      "Epoch 61/100\n",
      "12/12 [==============================] - 5s 448ms/step - loss: 0.1048 - accuracy: 0.9533\n",
      "Epoch 62/100\n",
      "12/12 [==============================] - 5s 424ms/step - loss: 0.0831 - accuracy: 0.9615\n",
      "Epoch 63/100\n",
      "12/12 [==============================] - 6s 497ms/step - loss: 0.0697 - accuracy: 0.9698\n",
      "Epoch 64/100\n",
      "12/12 [==============================] - 5s 451ms/step - loss: 0.0994 - accuracy: 0.9505\n",
      "Epoch 65/100\n",
      "12/12 [==============================] - 5s 402ms/step - loss: 0.0972 - accuracy: 0.9533\n",
      "Epoch 66/100\n",
      "12/12 [==============================] - 5s 392ms/step - loss: 0.0693 - accuracy: 0.9725\n",
      "Epoch 67/100\n",
      "12/12 [==============================] - 5s 405ms/step - loss: 0.0830 - accuracy: 0.9670\n",
      "Epoch 68/100\n",
      "12/12 [==============================] - 5s 417ms/step - loss: 0.0643 - accuracy: 0.9780\n",
      "Epoch 69/100\n",
      "12/12 [==============================] - 5s 417ms/step - loss: 0.0590 - accuracy: 0.9725\n",
      "Epoch 70/100\n",
      "12/12 [==============================] - 5s 390ms/step - loss: 0.0742 - accuracy: 0.9643\n",
      "Epoch 71/100\n",
      "12/12 [==============================] - 5s 404ms/step - loss: 0.0729 - accuracy: 0.9670\n",
      "Epoch 72/100\n",
      "12/12 [==============================] - 5s 399ms/step - loss: 0.0631 - accuracy: 0.9670\n",
      "Epoch 73/100\n",
      "12/12 [==============================] - 5s 392ms/step - loss: 0.0957 - accuracy: 0.9615\n",
      "Epoch 74/100\n",
      "12/12 [==============================] - 5s 398ms/step - loss: 0.0781 - accuracy: 0.9725\n",
      "Epoch 75/100\n",
      "12/12 [==============================] - 5s 403ms/step - loss: 0.0602 - accuracy: 0.9753\n",
      "Epoch 76/100\n",
      "12/12 [==============================] - 5s 398ms/step - loss: 0.0571 - accuracy: 0.9808\n",
      "Epoch 77/100\n",
      "12/12 [==============================] - 4s 374ms/step - loss: 0.0893 - accuracy: 0.9643\n",
      "Epoch 78/100\n",
      "12/12 [==============================] - 5s 425ms/step - loss: 0.0475 - accuracy: 0.9808\n",
      "Epoch 79/100\n",
      "12/12 [==============================] - 5s 394ms/step - loss: 0.0423 - accuracy: 0.9863\n",
      "Epoch 80/100\n",
      "12/12 [==============================] - 5s 407ms/step - loss: 0.0594 - accuracy: 0.9780\n",
      "Epoch 81/100\n"
     ]
    },
    {
     "name": "stdout",
     "output_type": "stream",
     "text": [
      "12/12 [==============================] - 5s 410ms/step - loss: 0.0686 - accuracy: 0.9753\n",
      "Epoch 82/100\n",
      "12/12 [==============================] - 5s 384ms/step - loss: 0.0709 - accuracy: 0.9753\n",
      "Epoch 83/100\n",
      "12/12 [==============================] - 5s 404ms/step - loss: 0.0785 - accuracy: 0.9698\n",
      "Epoch 84/100\n",
      "12/12 [==============================] - 5s 393ms/step - loss: 0.1065 - accuracy: 0.9670\n",
      "Epoch 85/100\n",
      "12/12 [==============================] - 5s 402ms/step - loss: 0.0926 - accuracy: 0.9588\n",
      "Epoch 86/100\n",
      "12/12 [==============================] - 5s 399ms/step - loss: 0.1076 - accuracy: 0.9615\n",
      "Epoch 87/100\n",
      "12/12 [==============================] - 5s 394ms/step - loss: 0.0618 - accuracy: 0.9780\n",
      "Epoch 88/100\n",
      "12/12 [==============================] - 5s 393ms/step - loss: 0.0573 - accuracy: 0.9753\n",
      "Epoch 89/100\n",
      "12/12 [==============================] - 5s 406ms/step - loss: 0.0798 - accuracy: 0.9725\n",
      "Epoch 90/100\n",
      "12/12 [==============================] - 5s 393ms/step - loss: 0.0732 - accuracy: 0.9615\n",
      "Epoch 91/100\n",
      "12/12 [==============================] - 5s 404ms/step - loss: 0.0782 - accuracy: 0.9808\n",
      "Epoch 92/100\n",
      "12/12 [==============================] - 5s 394ms/step - loss: 0.0939 - accuracy: 0.9588\n",
      "Epoch 93/100\n",
      "12/12 [==============================] - 5s 405ms/step - loss: 0.0649 - accuracy: 0.9780\n",
      "Epoch 94/100\n",
      "12/12 [==============================] - 5s 408ms/step - loss: 0.0815 - accuracy: 0.9588\n",
      "Epoch 95/100\n",
      "12/12 [==============================] - 5s 418ms/step - loss: 0.0582 - accuracy: 0.9780\n",
      "Epoch 96/100\n",
      "12/12 [==============================] - 5s 406ms/step - loss: 0.0601 - accuracy: 0.9670\n",
      "Epoch 97/100\n",
      "12/12 [==============================] - 5s 408ms/step - loss: 0.0577 - accuracy: 0.9780\n",
      "Epoch 98/100\n",
      "12/12 [==============================] - 5s 416ms/step - loss: 0.0564 - accuracy: 0.9808\n",
      "Epoch 99/100\n",
      "12/12 [==============================] - 5s 420ms/step - loss: 0.0712 - accuracy: 0.9670\n",
      "Epoch 100/100\n",
      "12/12 [==============================] - 5s 406ms/step - loss: 0.0714 - accuracy: 0.9670\n"
     ]
    },
    {
     "data": {
      "text/plain": [
       "<tensorflow.python.keras.callbacks.History at 0x2000cd8e2c8>"
      ]
     },
     "execution_count": 122,
     "metadata": {},
     "output_type": "execute_result"
    }
   ],
   "source": [
    "model.fit(X,Y_enc,epochs=100,batch_size=32)"
   ]
  },
  {
   "cell_type": "code",
   "execution_count": 128,
   "metadata": {},
   "outputs": [
    {
     "name": "stdout",
     "output_type": "stream",
     "text": [
      "Epoch 1/100\n",
      "12/12 [==============================] - 5s 425ms/step - loss: 0.0651 - accuracy: 0.9725\n",
      "Epoch 2/100\n",
      "12/12 [==============================] - 5s 411ms/step - loss: 0.0671 - accuracy: 0.9808\n",
      "Epoch 3/100\n",
      "12/12 [==============================] - 5s 410ms/step - loss: 0.1176 - accuracy: 0.9533\n",
      "Epoch 4/100\n",
      "12/12 [==============================] - 5s 409ms/step - loss: 0.0650 - accuracy: 0.9725\n",
      "Epoch 5/100\n",
      "12/12 [==============================] - 5s 408ms/step - loss: 0.0780 - accuracy: 0.9863\n",
      "Epoch 6/100\n",
      "12/12 [==============================] - 5s 418ms/step - loss: 0.1225 - accuracy: 0.9588\n",
      "Epoch 7/100\n",
      "12/12 [==============================] - 5s 421ms/step - loss: 0.0944 - accuracy: 0.9588\n",
      "Epoch 8/100\n",
      "12/12 [==============================] - 5s 407ms/step - loss: 0.0501 - accuracy: 0.9863\n",
      "Epoch 9/100\n",
      "12/12 [==============================] - 5s 407ms/step - loss: 0.0746 - accuracy: 0.9698\n",
      "Epoch 10/100\n",
      "12/12 [==============================] - 5s 409ms/step - loss: 0.0551 - accuracy: 0.9890\n",
      "Epoch 11/100\n",
      "12/12 [==============================] - 5s 408ms/step - loss: 0.0779 - accuracy: 0.9698\n",
      "Epoch 12/100\n",
      "12/12 [==============================] - 5s 403ms/step - loss: 0.0783 - accuracy: 0.9615\n",
      "Epoch 13/100\n",
      "12/12 [==============================] - 5s 417ms/step - loss: 0.0830 - accuracy: 0.9753\n",
      "Epoch 14/100\n",
      "12/12 [==============================] - 5s 418ms/step - loss: 0.0641 - accuracy: 0.9753\n",
      "Epoch 15/100\n",
      "12/12 [==============================] - 5s 409ms/step - loss: 0.0797 - accuracy: 0.9753\n",
      "Epoch 16/100\n",
      "12/12 [==============================] - 5s 411ms/step - loss: 0.0480 - accuracy: 0.9780\n",
      "Epoch 17/100\n",
      "12/12 [==============================] - 5s 417ms/step - loss: 0.0547 - accuracy: 0.9753\n",
      "Epoch 18/100\n",
      "12/12 [==============================] - 5s 424ms/step - loss: 0.0462 - accuracy: 0.9808\n",
      "Epoch 19/100\n",
      "12/12 [==============================] - 5s 415ms/step - loss: 0.1075 - accuracy: 0.9725\n",
      "Epoch 20/100\n",
      "12/12 [==============================] - 5s 413ms/step - loss: 0.0678 - accuracy: 0.9698\n",
      "Epoch 21/100\n",
      "12/12 [==============================] - 5s 411ms/step - loss: 0.0494 - accuracy: 0.9835\n",
      "Epoch 22/100\n",
      "12/12 [==============================] - 5s 415ms/step - loss: 0.1117 - accuracy: 0.9533\n",
      "Epoch 23/100\n",
      "12/12 [==============================] - 5s 433ms/step - loss: 0.1125 - accuracy: 0.9725\n",
      "Epoch 24/100\n",
      "12/12 [==============================] - 5s 416ms/step - loss: 0.0384 - accuracy: 0.9780\n",
      "Epoch 25/100\n",
      "12/12 [==============================] - 5s 421ms/step - loss: 0.0549 - accuracy: 0.9835\n",
      "Epoch 26/100\n",
      "12/12 [==============================] - 5s 416ms/step - loss: 0.0509 - accuracy: 0.9808\n",
      "Epoch 27/100\n",
      "12/12 [==============================] - 5s 411ms/step - loss: 0.0843 - accuracy: 0.9560\n",
      "Epoch 28/100\n",
      "12/12 [==============================] - 5s 411ms/step - loss: 0.0381 - accuracy: 0.9835\n",
      "Epoch 29/100\n",
      "12/12 [==============================] - 5s 425ms/step - loss: 0.0442 - accuracy: 0.9808\n",
      "Epoch 30/100\n",
      "12/12 [==============================] - 5s 410ms/step - loss: 0.0522 - accuracy: 0.9780\n",
      "Epoch 31/100\n",
      "12/12 [==============================] - 5s 415ms/step - loss: 0.0715 - accuracy: 0.9643\n",
      "Epoch 32/100\n",
      "12/12 [==============================] - 5s 417ms/step - loss: 0.1288 - accuracy: 0.9533\n",
      "Epoch 33/100\n",
      "12/12 [==============================] - 5s 393ms/step - loss: 0.0762 - accuracy: 0.9753\n",
      "Epoch 34/100\n",
      "12/12 [==============================] - 5s 423ms/step - loss: 0.0760 - accuracy: 0.9698\n",
      "Epoch 35/100\n",
      "12/12 [==============================] - 5s 411ms/step - loss: 0.0999 - accuracy: 0.9670\n",
      "Epoch 36/100\n",
      "12/12 [==============================] - 5s 416ms/step - loss: 0.0756 - accuracy: 0.9780\n",
      "Epoch 37/100\n",
      "12/12 [==============================] - 5s 406ms/step - loss: 0.0703 - accuracy: 0.9725\n",
      "Epoch 38/100\n",
      "12/12 [==============================] - 5s 411ms/step - loss: 0.0952 - accuracy: 0.9753\n",
      "Epoch 39/100\n",
      "12/12 [==============================] - 5s 421ms/step - loss: 0.0576 - accuracy: 0.9780\n",
      "Epoch 40/100\n",
      "12/12 [==============================] - 5s 421ms/step - loss: 0.0937 - accuracy: 0.9643\n",
      "Epoch 41/100\n",
      "12/12 [==============================] - 5s 414ms/step - loss: 0.0856 - accuracy: 0.9753\n",
      "Epoch 42/100\n",
      "12/12 [==============================] - 5s 418ms/step - loss: 0.0476 - accuracy: 0.9863\n",
      "Epoch 43/100\n",
      "12/12 [==============================] - 5s 407ms/step - loss: 0.0544 - accuracy: 0.9698\n",
      "Epoch 44/100\n",
      "12/12 [==============================] - 5s 410ms/step - loss: 0.0550 - accuracy: 0.9780\n",
      "Epoch 45/100\n",
      "12/12 [==============================] - 5s 427ms/step - loss: 0.0354 - accuracy: 0.9863\n",
      "Epoch 46/100\n",
      "12/12 [==============================] - 5s 411ms/step - loss: 0.0793 - accuracy: 0.9670\n",
      "Epoch 47/100\n",
      "12/12 [==============================] - 5s 411ms/step - loss: 0.0752 - accuracy: 0.9725\n",
      "Epoch 48/100\n",
      "12/12 [==============================] - 5s 418ms/step - loss: 0.0581 - accuracy: 0.9753\n",
      "Epoch 49/100\n",
      "12/12 [==============================] - 5s 401ms/step - loss: 0.0640 - accuracy: 0.9698\n",
      "Epoch 50/100\n",
      "12/12 [==============================] - 5s 404ms/step - loss: 0.0558 - accuracy: 0.9835\n",
      "Epoch 51/100\n",
      "12/12 [==============================] - 5s 422ms/step - loss: 0.0375 - accuracy: 0.9780\n",
      "Epoch 52/100\n",
      "12/12 [==============================] - 5s 413ms/step - loss: 0.0440 - accuracy: 0.9835\n",
      "Epoch 53/100\n",
      "12/12 [==============================] - 5s 413ms/step - loss: 0.0529 - accuracy: 0.9808\n",
      "Epoch 54/100\n",
      "12/12 [==============================] - 5s 415ms/step - loss: 0.0656 - accuracy: 0.9725\n",
      "Epoch 55/100\n",
      "12/12 [==============================] - 5s 417ms/step - loss: 0.0564 - accuracy: 0.9863\n",
      "Epoch 56/100\n",
      "12/12 [==============================] - 5s 421ms/step - loss: 0.0671 - accuracy: 0.9780\n",
      "Epoch 57/100\n",
      "12/12 [==============================] - 5s 423ms/step - loss: 0.0559 - accuracy: 0.9808\n",
      "Epoch 58/100\n",
      "12/12 [==============================] - 5s 413ms/step - loss: 0.0837 - accuracy: 0.9588\n",
      "Epoch 59/100\n",
      "12/12 [==============================] - 5s 413ms/step - loss: 0.0789 - accuracy: 0.9560\n",
      "Epoch 60/100\n",
      "12/12 [==============================] - 5s 417ms/step - loss: 0.0625 - accuracy: 0.9753\n",
      "Epoch 61/100\n",
      "12/12 [==============================] - 5s 423ms/step - loss: 0.0582 - accuracy: 0.9670\n",
      "Epoch 62/100\n",
      "12/12 [==============================] - 5s 428ms/step - loss: 0.0653 - accuracy: 0.9753\n",
      "Epoch 63/100\n",
      "12/12 [==============================] - 5s 422ms/step - loss: 0.0626 - accuracy: 0.9725\n",
      "Epoch 64/100\n",
      "12/12 [==============================] - 5s 429ms/step - loss: 0.0676 - accuracy: 0.9643\n",
      "Epoch 65/100\n",
      "12/12 [==============================] - 5s 417ms/step - loss: 0.0554 - accuracy: 0.9780\n",
      "Epoch 66/100\n",
      "12/12 [==============================] - 5s 408ms/step - loss: 0.0423 - accuracy: 0.9863\n",
      "Epoch 67/100\n",
      "12/12 [==============================] - 5s 409ms/step - loss: 0.0416 - accuracy: 0.9835\n",
      "Epoch 68/100\n",
      "12/12 [==============================] - 5s 413ms/step - loss: 0.0904 - accuracy: 0.9698\n",
      "Epoch 69/100\n",
      "12/12 [==============================] - 5s 408ms/step - loss: 0.0605 - accuracy: 0.9725\n",
      "Epoch 70/100\n",
      "12/12 [==============================] - 5s 400ms/step - loss: 0.0457 - accuracy: 0.9753\n",
      "Epoch 71/100\n",
      "12/12 [==============================] - 5s 396ms/step - loss: 0.0458 - accuracy: 0.9753\n",
      "Epoch 72/100\n",
      "12/12 [==============================] - 5s 410ms/step - loss: 0.0497 - accuracy: 0.9808\n",
      "Epoch 73/100\n",
      "12/12 [==============================] - 5s 413ms/step - loss: 0.0395 - accuracy: 0.9863\n",
      "Epoch 74/100\n",
      "12/12 [==============================] - 5s 400ms/step - loss: 0.0505 - accuracy: 0.9753\n",
      "Epoch 75/100\n",
      "12/12 [==============================] - 5s 386ms/step - loss: 0.0543 - accuracy: 0.9725\n",
      "Epoch 76/100\n",
      "12/12 [==============================] - 5s 385ms/step - loss: 0.0469 - accuracy: 0.9835\n",
      "Epoch 77/100\n",
      "12/12 [==============================] - 5s 413ms/step - loss: 0.0457 - accuracy: 0.9808\n",
      "Epoch 78/100\n",
      "12/12 [==============================] - 5s 408ms/step - loss: 0.0212 - accuracy: 0.9918\n",
      "Epoch 79/100\n",
      "12/12 [==============================] - 5s 406ms/step - loss: 0.0734 - accuracy: 0.9753\n",
      "Epoch 80/100\n",
      "12/12 [==============================] - 5s 398ms/step - loss: 0.0413 - accuracy: 0.9780\n",
      "Epoch 81/100\n"
     ]
    },
    {
     "name": "stdout",
     "output_type": "stream",
     "text": [
      "12/12 [==============================] - 5s 404ms/step - loss: 0.0435 - accuracy: 0.9835\n",
      "Epoch 82/100\n",
      "12/12 [==============================] - 5s 399ms/step - loss: 0.0345 - accuracy: 0.9863\n",
      "Epoch 83/100\n",
      "12/12 [==============================] - 5s 402ms/step - loss: 0.0348 - accuracy: 0.9835\n",
      "Epoch 84/100\n",
      "12/12 [==============================] - 5s 406ms/step - loss: 0.0738 - accuracy: 0.9808\n",
      "Epoch 85/100\n",
      "12/12 [==============================] - 5s 390ms/step - loss: 0.0541 - accuracy: 0.9753\n",
      "Epoch 86/100\n",
      "12/12 [==============================] - 5s 389ms/step - loss: 0.0554 - accuracy: 0.9780\n",
      "Epoch 87/100\n",
      "12/12 [==============================] - 5s 385ms/step - loss: 0.0513 - accuracy: 0.9753\n",
      "Epoch 88/100\n",
      "12/12 [==============================] - 5s 391ms/step - loss: 0.0698 - accuracy: 0.9698\n",
      "Epoch 89/100\n",
      "12/12 [==============================] - 5s 401ms/step - loss: 0.0508 - accuracy: 0.9780\n",
      "Epoch 90/100\n",
      "12/12 [==============================] - 5s 421ms/step - loss: 0.0538 - accuracy: 0.9753\n",
      "Epoch 91/100\n",
      "12/12 [==============================] - 5s 406ms/step - loss: 0.0397 - accuracy: 0.9863\n",
      "Epoch 92/100\n",
      "12/12 [==============================] - 5s 412ms/step - loss: 0.0523 - accuracy: 0.9725\n",
      "Epoch 93/100\n",
      "12/12 [==============================] - 5s 410ms/step - loss: 0.0385 - accuracy: 0.9890\n",
      "Epoch 94/100\n",
      "12/12 [==============================] - 5s 412ms/step - loss: 0.0386 - accuracy: 0.9918\n",
      "Epoch 95/100\n",
      "12/12 [==============================] - 5s 424ms/step - loss: 0.0545 - accuracy: 0.9808\n",
      "Epoch 96/100\n",
      "12/12 [==============================] - 5s 409ms/step - loss: 0.0372 - accuracy: 0.9863\n",
      "Epoch 97/100\n",
      "12/12 [==============================] - 5s 407ms/step - loss: 0.0545 - accuracy: 0.9835\n",
      "Epoch 98/100\n",
      "12/12 [==============================] - 5s 410ms/step - loss: 0.0548 - accuracy: 0.9753\n",
      "Epoch 99/100\n",
      "12/12 [==============================] - 5s 404ms/step - loss: 0.0511 - accuracy: 0.9808\n",
      "Epoch 100/100\n",
      "12/12 [==============================] - 5s 405ms/step - loss: 0.0827 - accuracy: 0.9698\n"
     ]
    },
    {
     "data": {
      "text/plain": [
       "<tensorflow.python.keras.callbacks.History at 0x200003ae5c8>"
      ]
     },
     "execution_count": 128,
     "metadata": {},
     "output_type": "execute_result"
    }
   ],
   "source": [
    "model.fit(X,Y_enc,epochs=100,batch_size=32)"
   ]
  },
  {
   "cell_type": "code",
   "execution_count": 118,
   "metadata": {},
   "outputs": [],
   "source": [
    "datadir=\"D:/learn/ML/Dancing ML/DanceDataset/test\"\n",
    "path=os.path.join(datadir)\n",
    "test_data=pd.read_csv(\"test.csv\")\n",
    "test_data=test_data[\"Image\"]\n",
    "test_x=[]\n",
    "for img in test_data:\n",
    "    img=load_img(os.path.join(path,img),target_size=(128,128))\n",
    "    img_arr=np.array(img)\n",
    "    test_x.append(img_arr)\n",
    "test_x=np.array(test_x)"
   ]
  },
  {
   "cell_type": "code",
   "execution_count": 129,
   "metadata": {},
   "outputs": [
    {
     "name": "stdout",
     "output_type": "stream",
     "text": [
      "[[0. 0. 0. ... 0. 1. 0.]\n",
      " [0. 0. 0. ... 1. 0. 0.]\n",
      " [0. 0. 0. ... 0. 0. 1.]\n",
      " ...\n",
      " [0. 0. 0. ... 0. 0. 0.]\n",
      " [0. 0. 1. ... 0. 0. 0.]\n",
      " [0. 0. 0. ... 1. 0. 0.]]\n"
     ]
    }
   ],
   "source": [
    "predictions=model.predict(test_x)\n",
    "print(predictions)"
   ]
  },
  {
   "cell_type": "code",
   "execution_count": 130,
   "metadata": {},
   "outputs": [
    {
     "name": "stdout",
     "output_type": "stream",
     "text": [
      "12/12 [==============================] - 1s 124ms/step - loss: 1.0423e-04 - accuracy: 1.0000\n",
      "[0.00010423196363262832, 1.0]\n"
     ]
    }
   ],
   "source": [
    "pred=model.evaluate(X,Y_enc)\n",
    "print(pred)"
   ]
  },
  {
   "cell_type": "code",
   "execution_count": 131,
   "metadata": {},
   "outputs": [
    {
     "name": "stdout",
     "output_type": "stream",
     "text": [
      "[6 5 7 2 3 6 6 5 6 2 7 1 5 5 5 1 2 1 7 2 2 3 3 7 7 3 7 1 2 1 3 2 0 2 7 6 2\n",
      " 2 0 1 4 5 2 7 7 7 5 5 5 6 7 7 4 6 2 2 2 2 5 5 3 5 4 2 6 6 3 3 2 1 4 6 2 7\n",
      " 4 3 7 5 3 1 7 6 7 6 6 6 4 3 0 7 7 4 4 6 3 4 6 7 5 6 6 7 4 2 1 6 2 6 7 2 6\n",
      " 3 6 2 6 2 3 3 7 6 2 7 5 7 2 7 5 5 6 2 1 3 1 3 4 7 6 7 2 4 5 4 6 2 4 7 4 5\n",
      " 0 7 5 5 3 4 2 5]\n"
     ]
    }
   ],
   "source": [
    "results_labels=np.argmax(predictions,axis=1)\n",
    "print(results_labels)"
   ]
  },
  {
   "cell_type": "code",
   "execution_count": 132,
   "metadata": {},
   "outputs": [],
   "source": [
    "results=[]\n",
    "for i in results_labels:\n",
    "    results.append(categories[i])\n"
   ]
  },
  {
   "cell_type": "code",
   "execution_count": 127,
   "metadata": {},
   "outputs": [],
   "source": [
    "df=pd.DataFrame(results)\n",
    "df.to_csv(\"results.csv\")"
   ]
  },
  {
   "cell_type": "code",
   "execution_count": null,
   "metadata": {},
   "outputs": [],
   "source": []
  }
 ],
 "metadata": {
  "kernelspec": {
   "display_name": "Python 3",
   "language": "python",
   "name": "python3"
  },
  "language_info": {
   "codemirror_mode": {
    "name": "ipython",
    "version": 3
   },
   "file_extension": ".py",
   "mimetype": "text/x-python",
   "name": "python",
   "nbconvert_exporter": "python",
   "pygments_lexer": "ipython3",
   "version": "3.7.4"
  }
 },
 "nbformat": 4,
 "nbformat_minor": 2
}
